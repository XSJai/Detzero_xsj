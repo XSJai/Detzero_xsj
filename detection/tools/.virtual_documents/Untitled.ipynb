import pickle as pkl


file_path = "/home/xsj/data/DetZero-main/detection/output/home/xsj/data/DetZero-main/detection/tools/cfgs/det_model_cfgs/centerpoint_5sweeps/default/eval/epoch_5/val/result.pkl"

with open(file_path, 'rb') as file:
    loaded_object = pkl.load(file)


loaded_object.shape


len(loaded_object)



p = '/home/xsj/data/DetZero-main/data/waymo/refining/Vehicle/10023947602400723454_1120_000_1140_000.pkl'


with open(p, 'rb') as f:
    data = pkl.load(f)






