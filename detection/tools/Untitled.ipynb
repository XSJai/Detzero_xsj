{
 "cells": [
  {
   "cell_type": "code",
   "execution_count": 11,
   "id": "86d7d314-db58-45af-86c4-78bad65d61cf",
   "metadata": {},
   "outputs": [],
   "source": [
    "import pickle as pkl"
   ]
  },
  {
   "cell_type": "code",
   "execution_count": 17,
   "id": "0600af69-d7a4-41a5-be0a-a84a0cf39249",
   "metadata": {},
   "outputs": [],
   "source": [
    "file_path = \"/home/xsj/data/DetZero-main/detection/output/home/xsj/data/DetZero-main/detection/tools/cfgs/det_model_cfgs/centerpoint_5sweeps/default/eval/epoch_5/val/result.pkl\"\n",
    "\n",
    "with open(file_path, 'rb') as file:\n",
    "    loaded_object = pkl.load(file)"
   ]
  },
  {
   "cell_type": "code",
   "execution_count": 18,
   "id": "390e4dd0-84dc-4015-aa90-95dbba246de9",
   "metadata": {},
   "outputs": [
    {
     "ename": "AttributeError",
     "evalue": "'list' object has no attribute 'shape'",
     "output_type": "error",
     "traceback": [
      "\u001b[0;31m---------------------------------------------------------------------------\u001b[0m",
      "\u001b[0;31mAttributeError\u001b[0m                            Traceback (most recent call last)",
      "Cell \u001b[0;32mIn[18], line 1\u001b[0m\n\u001b[0;32m----> 1\u001b[0m loaded_object\u001b[38;5;241m.\u001b[39mshape\n",
      "\u001b[0;31mAttributeError\u001b[0m: 'list' object has no attribute 'shape'"
     ]
    }
   ],
   "source": [
    "loaded_object.shape"
   ]
  },
  {
   "cell_type": "code",
   "execution_count": 24,
   "id": "c9efd9e2-f5a4-4d63-8c2c-fadb1d213323",
   "metadata": {},
   "outputs": [
    {
     "data": {
      "text/plain": [
       "397"
      ]
     },
     "execution_count": 24,
     "metadata": {},
     "output_type": "execute_result"
    }
   ],
   "source": [
    "len(loaded_object)\n"
   ]
  },
  {
   "cell_type": "code",
   "execution_count": 30,
   "id": "a1007a82-c264-4264-8165-700f534916b9",
   "metadata": {},
   "outputs": [],
   "source": [
    "p = '/home/xsj/data/DetZero-main/data/waymo/refining/Vehicle/10023947602400723454_1120_000_1140_000.pkl'"
   ]
  },
  {
   "cell_type": "code",
   "execution_count": 31,
   "id": "0c99bf29-7ed3-4c30-a71c-68c67a7c4470",
   "metadata": {},
   "outputs": [],
   "source": [
    "with open(p, 'rb') as f:\n",
    "    data = pkl.load(f)"
   ]
  },
  {
   "cell_type": "code",
   "execution_count": 34,
   "id": "154b2c82-88e8-4484-835d-a8c0b717608e",
   "metadata": {},
   "outputs": [
    {
     "data": {
      "text/plain": [
       "dict_keys(['sequence_name', 'obj_id', 'name', 'boxes_global', 'score', 'sample_idx', 'hit', 'pose', 'state', 'matched', 'matched_tracklet', 'pts', 'gt_boxes_global', 'gt_obj_id', 'gt_name'])"
      ]
     },
     "execution_count": 34,
     "metadata": {},
     "output_type": "execute_result"
    }
   ],
   "source": [
    "data[0].keys()"
   ]
  },
  {
   "cell_type": "code",
   "execution_count": null,
   "id": "753277a2-ad30-4970-9133-e1db610ea6ed",
   "metadata": {},
   "outputs": [],
   "source": []
  }
 ],
 "metadata": {
  "kernelspec": {
   "display_name": "Python 3 (ipykernel)",
   "language": "python",
   "name": "python3"
  },
  "language_info": {
   "codemirror_mode": {
    "name": "ipython",
    "version": 3
   },
   "file_extension": ".py",
   "mimetype": "text/x-python",
   "name": "python",
   "nbconvert_exporter": "python",
   "pygments_lexer": "ipython3",
   "version": "3.12.7"
  }
 },
 "nbformat": 4,
 "nbformat_minor": 5
}
